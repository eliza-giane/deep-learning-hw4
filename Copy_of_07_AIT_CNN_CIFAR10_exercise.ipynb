{
  "nbformat": 4,
  "nbformat_minor": 0,
  "metadata": {
    "anaconda-cloud": {},
    "kernelspec": {
      "display_name": "Python 3",
      "name": "python3"
    },
    "language_info": {
      "codemirror_mode": {
        "name": "ipython",
        "version": 3
      },
      "file_extension": ".py",
      "mimetype": "text/x-python",
      "name": "python",
      "nbconvert_exporter": "python",
      "pygments_lexer": "ipython3",
      "version": "3.6.6"
    },
    "colab": {
      "provenance": [],
      "gpuType": "T4"
    },
    "accelerator": "GPU"
  },
  "cells": [
    {
      "cell_type": "markdown",
      "metadata": {
        "id": "cW-EyI5Lxpqi"
      },
      "source": [
        "# Copyright\n",
        "\n",
        "<PRE>\n",
        "Copyright (c) 2024 Bálint Gyires-Tóth - All Rights Reserved\n",
        "You may use and modify this code for research and development purpuses.\n",
        "Using this code for educational purposes (self-paced or instructor led) without the permission of the author is prohibited.\n",
        "</PRE>"
      ]
    },
    {
      "cell_type": "markdown",
      "source": [
        "# Convolutional Neural Network exercise\n",
        "\n",
        "In this notebook, you will build a convolutional neural network, which offers superior results over the previous MLP solution. Additionally, you will perform a more detailed evaluation."
      ],
      "metadata": {
        "id": "3EX4cCa4WKJu"
      }
    },
    {
      "cell_type": "code",
      "source": [
        "# imports\n",
        "from tensorflow.keras.datasets import cifar10\n",
        "from tensorflow.keras.utils import to_categorical\n",
        "import numpy as np\n",
        "import matplotlib.pyplot as plt\n",
        "from tensorflow.keras.models import Sequential\n",
        "from tensorflow.keras.layers import Dense, Conv2D, MaxPool2D, Flatten, Dropout, BatchNormalization\n",
        "from tensorflow.keras.initializers import HeNormal\n",
        "from tensorflow.keras.callbacks import EarlyStopping"
      ],
      "metadata": {
        "id": "GdCMhy4HA2qd"
      },
      "execution_count": 12,
      "outputs": []
    },
    {
      "cell_type": "markdown",
      "source": [
        "# 1. Data\n",
        "The dataset we will use is the well-known CIFAR10 (Canadian Institute For Advanced Research). Explore the details on the Keras website first: https://keras.io/api/datasets/cifar10/\n",
        "\n",
        "There isn't much difference between the data preprocessing part and the one we did before. The only difference is that we don't have to reshape images into vectors, but we are working with a 4 dimensional data structure, where the dimensions are: batch, X, Y, and color channels.\n",
        "\n",
        "In the event that anything is not clear regarding the data preparation part, please check the previous CIFAR10 notebook."
      ],
      "metadata": {
        "id": "yY9fztIeWIKt"
      }
    },
    {
      "cell_type": "code",
      "source": [
        "(X_train, Y_train), (X_test, Y_test) = cifar10.load_data()"
      ],
      "metadata": {
        "id": "bez7q0eiWQCK"
      },
      "execution_count": 13,
      "outputs": []
    },
    {
      "cell_type": "code",
      "source": [
        "# it is in int8 format, the neural network requires float32\n",
        "X_train = X_train.astype(\"float32\")\n",
        "X_test = X_test.astype(\"float32\")"
      ],
      "metadata": {
        "id": "vukOcBM0XzSj"
      },
      "execution_count": 14,
      "outputs": []
    },
    {
      "cell_type": "code",
      "source": [
        "train_ratio  = 0.8\n",
        "train_length = X_train.shape[0]\n",
        "train_split  = int(train_ratio*train_length)\n",
        "X_valid, Y_valid = X_train[train_split:], Y_train[train_split:]\n",
        "X_train, Y_train = X_train[:train_split], Y_train[:train_split]"
      ],
      "metadata": {
        "id": "mRwuWxxIxLgN"
      },
      "execution_count": 15,
      "outputs": []
    },
    {
      "cell_type": "code",
      "source": [
        "mean = X_train.mean(axis=0)\n",
        "std  = X_train.std(axis=0)\n",
        "\n",
        "X_train = (X_train-mean)/std\n",
        "X_valid = (X_valid-mean)/std\n",
        "X_test  = (X_test-mean)/std"
      ],
      "metadata": {
        "id": "2ESLP1EIyB2J"
      },
      "execution_count": 16,
      "outputs": []
    },
    {
      "cell_type": "code",
      "source": [
        "nb_classes = len(np.unique(Y_train))\n",
        "Y_train = to_categorical(Y_train, nb_classes)\n",
        "Y_valid = to_categorical(Y_valid, nb_classes)\n",
        "Y_test  = to_categorical(Y_test, nb_classes)"
      ],
      "metadata": {
        "id": "xwZ4OJ6I8lba"
      },
      "execution_count": 17,
      "outputs": []
    },
    {
      "cell_type": "code",
      "source": [
        "print(\"Shapes of the training, validation and test input data:\", X_train.shape, X_valid.shape, X_test.shape)\n",
        "print(\"Shapes of the training, validation and test output data:\", Y_train.shape, Y_valid.shape, Y_test.shape)\n",
        "print(\"Mean values of the training, validation and test input data:\", X_train.mean(), X_valid.mean(), X_test.mean())\n",
        "print(\"Standard deviation of the training, validation and test input data:\", X_train.std(), X_valid.std(), X_test.std())"
      ],
      "metadata": {
        "id": "O_jdJVcvX0vi",
        "colab": {
          "base_uri": "https://localhost:8080/"
        },
        "outputId": "93c2993d-e23b-4e7c-e11b-2c8ac52dc9e2"
      },
      "execution_count": 18,
      "outputs": [
        {
          "output_type": "stream",
          "name": "stdout",
          "text": [
            "Shapes of the training, validation and test input data: (40000, 32, 32, 3) (10000, 32, 32, 3) (10000, 32, 32, 3)\n",
            "Shapes of the training, validation and test output data: (40000, 10) (10000, 10) (10000, 10)\n",
            "Mean values of the training, validation and test input data: 2.2788842e-09 0.0023437198 0.013331206\n",
            "Standard deviation of the training, validation and test input data: 1.0000023 0.9965626 0.99783075\n"
          ]
        }
      ]
    },
    {
      "cell_type": "markdown",
      "metadata": {
        "id": "cJ14oyZExpqj"
      },
      "source": [
        "# 2. Exercise: training"
      ]
    },
    {
      "cell_type": "markdown",
      "source": [
        "Create and train a convolutional neural network with the following requirements:\n",
        "* apply early stopping with patience=5 and monitor the validation accuracy, don't forget to load back the best weights after early stopping\n",
        "* the number of trainable parameters is lower than 200.000\n",
        "* the validation accuracy must be higher than 72%\n",
        "\n",
        "Hints:\n",
        "* you can always inspect the number of trainable parameters per layer with model.summary()\n",
        "* usually the most trainable parameters are between the last convolutional layer and the next dense layer -- so you should have a reasonable output size at the last convolutional layer\n",
        "* regularization helps (e.g. DropOut and/or BatchNormalization)\n",
        "* use the right activation function at the output layer and the corresponding loss function\n",
        "* for the chosen activation functions, please use the appropriate initialization method\n",
        "* you can match the dimension of the last conv/pooling layer to the next dense layer with e.g. Flatten()\n",
        "* ADAM optimizer is a reasonable choice\n",
        "* don't forget to turn on GPU support in Colab, otherwise, it would be quite slow to train the networks\n",
        "\n"
      ],
      "metadata": {
        "id": "j1tGVPdD-pp3"
      }
    },
    {
      "cell_type": "code",
      "source": [
        " # early stopping\n",
        "es = EarlyStopping(patience = 5, monitor = 'val_accuracy', restore_best_weights=True)\n",
        "rate = 0.2"
      ],
      "metadata": {
        "id": "5dBQxJHIHrbd"
      },
      "execution_count": 19,
      "outputs": []
    },
    {
      "cell_type": "code",
      "source": [
        "# model definition\n",
        "# model = Sequential()\n",
        "# model.add(Dense(128, activation='relu', kernel_initializer='he_uniform', input_shape=(flattened_dim,)))\n",
        "# model.add(Dropout(rate))\n",
        "# model.add(Dense(128*3, activation='relu', kernel_initializer='he_normal'))\n",
        "# # model.add(Dense(128, activation='relu', kernel_initializer='he_normal'))\n",
        "# model.add(Dropout(rate))\n",
        "\n",
        "# # model.add(Dense(128, activation='relu', kernel_initializer='he_normal'))\n",
        "# model.add(Dense(128*3, activation='relu', kernel_initializer='he_normal'))\n",
        "# # model.add(Dropout(rate))\n",
        "# # model.add(Dense(128, activation='relu', kernel_initializer='he_normal'))\n",
        "# model.add(Dense(nb_classes, activation='softmax'))\n",
        "\n",
        "# # loss function and optimizer\n",
        "# model.compile(loss='categorical_crossentropy', optimizer='adam', metrics=['accuracy'])\n",
        "\n",
        "# model definition\n",
        "model = Sequential()\n",
        "\n",
        "# input layer:\n",
        "model.add(Conv2D(32, kernel_size=(3,3), activation='relu', input_shape=(32,32,3)))\n",
        "model.add(BatchNormalization())\n",
        "\n",
        "# hidden layers\n",
        "model.add(Conv2D(64, kernel_size=(3,3), activation='relu'))\n",
        "model.add(BatchNormalization())\n",
        "model.add(MaxPool2D(pool_size=(2,2)))\n",
        "model.add(Dropout(0.1))\n",
        "\n",
        "model.add(Conv2D(64, kernel_size=(2,2), activation='relu'))\n",
        "model.add(BatchNormalization())\n",
        "model.add(MaxPool2D(pool_size=(2,2)))\n",
        "model.add(Dropout(0.2))\n",
        "\n",
        "model.add(Flatten())\n",
        "\n",
        "model.add(Dense(64, activation='relu', kernel_initializer='he_normal'))\n",
        "model.add(BatchNormalization())\n",
        "# model.add(MaxPool2D(pool_size=(2,2)))\n",
        "\n",
        "model.add(Dense(64, activation='relu', kernel_initializer='he_normal'))\n",
        "# model.add(MaxPool2D(pool_size=(2,2)))\n",
        "model.add(Dropout(0.5))\n",
        "\n",
        "# output layer\n",
        "model.add(Dense(10, activation='softmax'))\n",
        "\n",
        "\n",
        "# loss function and optimizer\n",
        "model.compile(optimizer='adam',\n",
        "              loss='categorical_crossentropy',\n",
        "              metrics=['accuracy'])"
      ],
      "metadata": {
        "id": "PuxHOqLt-3Nd"
      },
      "execution_count": 36,
      "outputs": []
    },
    {
      "cell_type": "code",
      "source": [
        "model.summary()"
      ],
      "metadata": {
        "id": "5eomQw8uE9Ix",
        "colab": {
          "base_uri": "https://localhost:8080/"
        },
        "outputId": "1d1e82a4-ad5c-4cea-8760-ed2dab8eb979"
      },
      "execution_count": 37,
      "outputs": [
        {
          "output_type": "stream",
          "name": "stdout",
          "text": [
            "Model: \"sequential_11\"\n",
            "_________________________________________________________________\n",
            " Layer (type)                Output Shape              Param #   \n",
            "=================================================================\n",
            " conv2d_31 (Conv2D)          (None, 30, 30, 32)        896       \n",
            "                                                                 \n",
            " batch_normalization_40 (Ba  (None, 30, 30, 32)        128       \n",
            " tchNormalization)                                               \n",
            "                                                                 \n",
            " conv2d_32 (Conv2D)          (None, 28, 28, 64)        18496     \n",
            "                                                                 \n",
            " batch_normalization_41 (Ba  (None, 28, 28, 64)        256       \n",
            " tchNormalization)                                               \n",
            "                                                                 \n",
            " max_pooling2d_22 (MaxPooli  (None, 14, 14, 64)        0         \n",
            " ng2D)                                                           \n",
            "                                                                 \n",
            " dropout_23 (Dropout)        (None, 14, 14, 64)        0         \n",
            "                                                                 \n",
            " conv2d_33 (Conv2D)          (None, 13, 13, 64)        16448     \n",
            "                                                                 \n",
            " batch_normalization_42 (Ba  (None, 13, 13, 64)        256       \n",
            " tchNormalization)                                               \n",
            "                                                                 \n",
            " max_pooling2d_23 (MaxPooli  (None, 6, 6, 64)          0         \n",
            " ng2D)                                                           \n",
            "                                                                 \n",
            " dropout_24 (Dropout)        (None, 6, 6, 64)          0         \n",
            "                                                                 \n",
            " flatten_10 (Flatten)        (None, 2304)              0         \n",
            "                                                                 \n",
            " dense_22 (Dense)            (None, 64)                147520    \n",
            "                                                                 \n",
            " batch_normalization_43 (Ba  (None, 64)                256       \n",
            " tchNormalization)                                               \n",
            "                                                                 \n",
            " dense_23 (Dense)            (None, 64)                4160      \n",
            "                                                                 \n",
            " dropout_25 (Dropout)        (None, 64)                0         \n",
            "                                                                 \n",
            " dense_24 (Dense)            (None, 10)                650       \n",
            "                                                                 \n",
            "=================================================================\n",
            "Total params: 189066 (738.54 KB)\n",
            "Trainable params: 188618 (736.79 KB)\n",
            "Non-trainable params: 448 (1.75 KB)\n",
            "_________________________________________________________________\n"
          ]
        }
      ]
    },
    {
      "cell_type": "markdown",
      "source": [
        "Please, check the number of trainable paramers:"
      ],
      "metadata": {
        "id": "8tIbIIeTEI41"
      }
    },
    {
      "cell_type": "code",
      "source": [
        "print(\"#trainable parameters:\",model.count_params())"
      ],
      "metadata": {
        "id": "xdBAG7EJETlX",
        "colab": {
          "base_uri": "https://localhost:8080/"
        },
        "outputId": "550aa429-1f25-4720-e32c-a0484365055f"
      },
      "execution_count": 38,
      "outputs": [
        {
          "output_type": "stream",
          "name": "stdout",
          "text": [
            "#trainable parameters: 189066\n"
          ]
        }
      ]
    },
    {
      "cell_type": "code",
      "source": [
        "# training\n",
        "network_history = model.fit(X_train, Y_train,\n",
        "                            validation_data=(X_valid,Y_valid),\n",
        "                            batch_size=128,\n",
        "                            epochs=500,\n",
        "                            verbose=1,\n",
        "                            callbacks=[es])"
      ],
      "metadata": {
        "id": "u8tFNCNVHyt9",
        "colab": {
          "base_uri": "https://localhost:8080/"
        },
        "outputId": "70d10bb0-a6c4-4ae8-cb91-26627e963db3"
      },
      "execution_count": 39,
      "outputs": [
        {
          "output_type": "stream",
          "name": "stdout",
          "text": [
            "Epoch 1/500\n",
            "313/313 [==============================] - 45s 21ms/step - loss: 1.7827 - accuracy: 0.3777 - val_loss: 1.9625 - val_accuracy: 0.3201\n",
            "Epoch 2/500\n",
            "313/313 [==============================] - 6s 19ms/step - loss: 1.3066 - accuracy: 0.5352 - val_loss: 1.0910 - val_accuracy: 0.6130\n",
            "Epoch 3/500\n",
            "313/313 [==============================] - 6s 19ms/step - loss: 1.1288 - accuracy: 0.6075 - val_loss: 0.9674 - val_accuracy: 0.6561\n",
            "Epoch 4/500\n",
            "313/313 [==============================] - 6s 19ms/step - loss: 1.0248 - accuracy: 0.6462 - val_loss: 0.9223 - val_accuracy: 0.6765\n",
            "Epoch 5/500\n",
            "313/313 [==============================] - 6s 18ms/step - loss: 0.9519 - accuracy: 0.6712 - val_loss: 0.8405 - val_accuracy: 0.7074\n",
            "Epoch 6/500\n",
            "313/313 [==============================] - 6s 19ms/step - loss: 0.8992 - accuracy: 0.6938 - val_loss: 0.8221 - val_accuracy: 0.7121\n",
            "Epoch 7/500\n",
            "313/313 [==============================] - 6s 19ms/step - loss: 0.8429 - accuracy: 0.7104 - val_loss: 0.8138 - val_accuracy: 0.7181\n",
            "Epoch 8/500\n",
            "313/313 [==============================] - 6s 20ms/step - loss: 0.7993 - accuracy: 0.7300 - val_loss: 0.8084 - val_accuracy: 0.7191\n",
            "Epoch 9/500\n",
            "313/313 [==============================] - 6s 19ms/step - loss: 0.7715 - accuracy: 0.7342 - val_loss: 0.7576 - val_accuracy: 0.7411\n",
            "Epoch 10/500\n",
            "313/313 [==============================] - 6s 20ms/step - loss: 0.7347 - accuracy: 0.7516 - val_loss: 0.7518 - val_accuracy: 0.7418\n",
            "Epoch 11/500\n",
            "313/313 [==============================] - 6s 19ms/step - loss: 0.7023 - accuracy: 0.7603 - val_loss: 0.7530 - val_accuracy: 0.7427\n",
            "Epoch 12/500\n",
            "313/313 [==============================] - 6s 20ms/step - loss: 0.6737 - accuracy: 0.7717 - val_loss: 0.7773 - val_accuracy: 0.7372\n",
            "Epoch 13/500\n",
            "313/313 [==============================] - 6s 19ms/step - loss: 0.6518 - accuracy: 0.7794 - val_loss: 0.7271 - val_accuracy: 0.7520\n",
            "Epoch 14/500\n",
            "313/313 [==============================] - 6s 19ms/step - loss: 0.6279 - accuracy: 0.7880 - val_loss: 0.7535 - val_accuracy: 0.7446\n",
            "Epoch 15/500\n",
            "313/313 [==============================] - 6s 18ms/step - loss: 0.5980 - accuracy: 0.7950 - val_loss: 0.7162 - val_accuracy: 0.7579\n",
            "Epoch 16/500\n",
            "313/313 [==============================] - 6s 19ms/step - loss: 0.5801 - accuracy: 0.8029 - val_loss: 0.7308 - val_accuracy: 0.7538\n",
            "Epoch 17/500\n",
            "313/313 [==============================] - 6s 18ms/step - loss: 0.5601 - accuracy: 0.8077 - val_loss: 0.7407 - val_accuracy: 0.7589\n",
            "Epoch 18/500\n",
            "313/313 [==============================] - 6s 19ms/step - loss: 0.5475 - accuracy: 0.8127 - val_loss: 0.7295 - val_accuracy: 0.7620\n",
            "Epoch 19/500\n",
            "313/313 [==============================] - 6s 19ms/step - loss: 0.5298 - accuracy: 0.8162 - val_loss: 0.7530 - val_accuracy: 0.7572\n",
            "Epoch 20/500\n",
            "313/313 [==============================] - 6s 18ms/step - loss: 0.5108 - accuracy: 0.8250 - val_loss: 0.7486 - val_accuracy: 0.7565\n",
            "Epoch 21/500\n",
            "313/313 [==============================] - 6s 18ms/step - loss: 0.4972 - accuracy: 0.8303 - val_loss: 0.7398 - val_accuracy: 0.7627\n",
            "Epoch 22/500\n",
            "313/313 [==============================] - 6s 18ms/step - loss: 0.4750 - accuracy: 0.8354 - val_loss: 0.7734 - val_accuracy: 0.7618\n",
            "Epoch 23/500\n",
            "313/313 [==============================] - 6s 19ms/step - loss: 0.4589 - accuracy: 0.8407 - val_loss: 0.7608 - val_accuracy: 0.7677\n",
            "Epoch 24/500\n",
            "313/313 [==============================] - 6s 18ms/step - loss: 0.4501 - accuracy: 0.8443 - val_loss: 0.7562 - val_accuracy: 0.7658\n",
            "Epoch 25/500\n",
            "313/313 [==============================] - 6s 20ms/step - loss: 0.4371 - accuracy: 0.8467 - val_loss: 0.8022 - val_accuracy: 0.7612\n",
            "Epoch 26/500\n",
            "313/313 [==============================] - 6s 18ms/step - loss: 0.4293 - accuracy: 0.8526 - val_loss: 0.8064 - val_accuracy: 0.7587\n",
            "Epoch 27/500\n",
            "313/313 [==============================] - 6s 20ms/step - loss: 0.4144 - accuracy: 0.8572 - val_loss: 0.7825 - val_accuracy: 0.7637\n",
            "Epoch 28/500\n",
            "313/313 [==============================] - 6s 19ms/step - loss: 0.4021 - accuracy: 0.8613 - val_loss: 0.8008 - val_accuracy: 0.7641\n"
          ]
        }
      ]
    },
    {
      "cell_type": "code",
      "source": [
        "print(model.evaluate(X_test, Y_test))"
      ],
      "metadata": {
        "colab": {
          "base_uri": "https://localhost:8080/"
        },
        "id": "RC0Yj_N_a3yF",
        "outputId": "ca8a1a23-0293-433a-93fc-602211bded8a"
      },
      "execution_count": 41,
      "outputs": [
        {
          "output_type": "stream",
          "name": "stdout",
          "text": [
            "313/313 [==============================] - 1s 4ms/step - loss: 0.8056 - accuracy: 0.7571\n",
            "[0.8055775761604309, 0.757099986076355]\n"
          ]
        }
      ]
    },
    {
      "cell_type": "markdown",
      "source": [
        "# 3. Exercise: evaluation on test data\n",
        "You will evaluate the classification of the test data using the common metrics and the confusion matrix in this section.\n",
        "\n",
        "\n",
        "As a first stes, let's run the predictions and convert the predicted softmax outputs to dense labels. The one-hot encoded labels are also converted back to dense labels, as they are required for the evaluation functions."
      ],
      "metadata": {
        "id": "2FtKp-a2-A9m"
      }
    },
    {
      "cell_type": "code",
      "source": [
        "probas = model.predict(X_test)\n",
        "preds  = np.argmax(probas,axis=1)\n",
        "Y_test_dense = np.argmax(Y_test, axis=1) # get the original dense labels of the test data"
      ],
      "metadata": {
        "id": "EcWAqwlDMq3y",
        "colab": {
          "base_uri": "https://localhost:8080/"
        },
        "outputId": "8158be51-fb1d-4095-b879-db10e3523b17"
      },
      "execution_count": 40,
      "outputs": [
        {
          "output_type": "stream",
          "name": "stdout",
          "text": [
            "313/313 [==============================] - 1s 3ms/step\n"
          ]
        }
      ]
    },
    {
      "cell_type": "markdown",
      "source": [
        "## 3.1. Exercise: Metrics\n",
        "please review the common classification metrics (accuracy, precision, recall, F1) for the complete model (not per class).\n",
        "\n",
        "Hints:\n",
        "* use macro averaging\n",
        "* you have to import the right functions from [sklearn.metrics](https://scikit-learn.org/stable/modules/model_evaluation.html)\n"
      ],
      "metadata": {
        "id": "RWJ-PH_iMs9K"
      }
    },
    {
      "cell_type": "code",
      "source": [
        "from sklearn.metrics import accuracy_score, precision_score, recall_score, f1_score"
      ],
      "metadata": {
        "id": "5sKm5zHSMZ_x"
      },
      "execution_count": 42,
      "outputs": []
    },
    {
      "cell_type": "code",
      "source": [
        "print(\"Accuracy:\",accuracy_score(Y_test_dense, preds))\n",
        "print(\"Precision:\",precision_score(Y_test_dense, preds, average='macro'))\n",
        "print(\"Recall:\",recall_score(Y_test_dense, preds, average='macro'))\n",
        "print(\"F1:\",f1_score(Y_test_dense, preds, average='macro'))"
      ],
      "metadata": {
        "id": "I3_9wgDREUna",
        "colab": {
          "base_uri": "https://localhost:8080/"
        },
        "outputId": "f0c102af-bd95-4ec7-84f1-e253202e8b26"
      },
      "execution_count": 44,
      "outputs": [
        {
          "output_type": "stream",
          "name": "stdout",
          "text": [
            "Accuracy: 0.7571\n",
            "Precision: 0.7556473573010777\n",
            "Recall: 0.7571000000000001\n",
            "F1: 0.75448485164712\n"
          ]
        }
      ]
    },
    {
      "cell_type": "markdown",
      "source": [
        "\n",
        "## 3.2. Exercise: Confusion matrix\n",
        "Calculate the confusion matrix and display the results in a heatmap (with decimal values).\n",
        "\n",
        "Hints:\n",
        "* you have to do the imports this time too, e.g. from [sklearn.metrics](https://scikit-learn.org/stable/modules/model_evaluation.html) and the [heatmap function](https://seaborn.pydata.org/generated/seaborn.heatmap.html) of [seaborn](https://seaborn.pydata.org/)\n",
        "* for displaying the decimal values, you have to turn annot=True and define fmt='d' in the heatmap function of seaborn"
      ],
      "metadata": {
        "id": "ECHguBFtGL7f"
      }
    },
    {
      "cell_type": "code",
      "source": [
        "from sklearn.metrics import confusion_matrix\n",
        "import seaborn as sns"
      ],
      "metadata": {
        "id": "SIi2VzMBO3yD"
      },
      "execution_count": 45,
      "outputs": []
    },
    {
      "cell_type": "code",
      "metadata": {
        "id": "cdqODx92Svw7",
        "colab": {
          "base_uri": "https://localhost:8080/",
          "height": 546
        },
        "outputId": "f2adaeeb-e7d8-4743-f33b-cb824e1b523c"
      },
      "source": [
        "conf = confusion_matrix(Y_test_dense, preds)\n",
        "plt.figure(figsize=(7,6))\n",
        "sns.heatmap(conf,annot=True,fmt=\"2d\", vmax=100)"
      ],
      "execution_count": 46,
      "outputs": [
        {
          "output_type": "execute_result",
          "data": {
            "text/plain": [
              "<Axes: >"
            ]
          },
          "metadata": {},
          "execution_count": 46
        },
        {
          "output_type": "display_data",
          "data": {
            "text/plain": [
              "<Figure size 700x600 with 2 Axes>"
            ],
            "image/png": "[encoded data removed]"
          },
          "metadata": {}
        }
      ]
    },
    {
      "cell_type": "code",
      "source": [],
      "metadata": {
        "id": "hR6aPS1PcxxB"
      },
      "execution_count": null,
      "outputs": []
    }
  ]
}